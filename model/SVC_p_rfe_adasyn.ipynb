{
 "cells": [
  {
   "cell_type": "code",
   "execution_count": null,
   "metadata": {
    "id": "hi8Sjc0_9q0C",
    "tags": []
   },
   "outputs": [],
   "source": [
    "import pandas as pd\n",
    "import numpy as np\n",
    "from sklearn.preprocessing import StandardScaler\n",
    "import utils.dimension_reduction as dr\n",
    "from sklearn.impute import KNNImputer\n",
    "from sklearn.model_selection import train_test_split\n",
    "from sklearn.tree import DecisionTreeClassifier\n",
    "from operator import itemgetter\n",
    "from tabulate import tabulate\n",
    "import utils.eval_metrics as em\n",
    "from sklearn import tree\n",
    "from sklearn import metrics\n",
    "import utils.learning_curve as lc\n",
    "import utils.cross_validation as cv\n",
    "import utils.oversampling as osm\n",
    "import pickle\n",
    "\n",
    "pd.set_option('display.max_columns', None)"
   ]
  },
  {
   "cell_type": "code",
   "execution_count": null,
   "metadata": {
    "id": "gLt9sEo3-TDN",
    "tags": []
   },
   "outputs": [],
   "source": [
    "data = pd.read_csv(\"final_dataset.csv\")"
   ]
  },
  {
   "cell_type": "code",
   "execution_count": null,
   "metadata": {
    "colab": {
     "base_uri": "https://localhost:8080/",
     "height": 313
    },
    "id": "4evYis8C-bQl",
    "outputId": "bc1afd2d-c4a7-4fa8-fe00-d878a5092b81",
    "tags": []
   },
   "outputs": [],
   "source": [
    "data.head()"
   ]
  },
  {
   "cell_type": "code",
   "execution_count": null,
   "metadata": {
    "id": "509vJfQM-fB5",
    "tags": []
   },
   "outputs": [],
   "source": [
    "data.drop('SEQN', axis=1, inplace=True)"
   ]
  },
  {
   "cell_type": "code",
   "execution_count": null,
   "metadata": {
    "id": "crtbrUfq-mE5",
    "tags": []
   },
   "outputs": [],
   "source": [
    "def show_value_counts(data):\n",
    "    for column in data.columns:\n",
    "        unique_values = data[column].nunique()\n",
    "        if unique_values > 3:\n",
    "            print(f\"Column: {column}\")\n",
    "            print(data[column].value_counts())\n",
    "            print(\"\\n\")"
   ]
  },
  {
   "cell_type": "code",
   "execution_count": null,
   "metadata": {
    "colab": {
     "base_uri": "https://localhost:8080/"
    },
    "id": "D6XybxCI-qFo",
    "outputId": "0a72fef4-b8b3-49cc-f328-f51e97fa62eb",
    "tags": []
   },
   "outputs": [],
   "source": [
    "show_value_counts(data)"
   ]
  },
  {
   "cell_type": "code",
   "execution_count": null,
   "metadata": {
    "id": "CDHCiQ2o-umh",
    "tags": []
   },
   "outputs": [],
   "source": [
    "def get_missing_val_count_df(df):\n",
    "    missing_values = df.isnull().sum()\n",
    "    missing_df = pd.DataFrame({'Feature_with_missing_value': missing_values.index, 'Missing_values': missing_values.values})\n",
    "    return missing_df[missing_df['Missing_values'] > 0]"
   ]
  },
  {
   "cell_type": "code",
   "execution_count": null,
   "metadata": {
    "colab": {
     "base_uri": "https://localhost:8080/",
     "height": 801
    },
    "id": "Cs1o-bfv-x3A",
    "outputId": "7d5fe7d3-7335-46fd-d23d-0a9118c7aeb7",
    "tags": []
   },
   "outputs": [],
   "source": [
    "msdf = get_missing_val_count_df(data)\n",
    "msdf"
   ]
  },
  {
   "cell_type": "code",
   "execution_count": null,
   "metadata": {
    "id": "lGQH8XGs-2kJ",
    "tags": []
   },
   "outputs": [],
   "source": [
    "missing_column_names = msdf['Feature_with_missing_value'].tolist()"
   ]
  },
  {
   "cell_type": "code",
   "execution_count": null,
   "metadata": {
    "colab": {
     "base_uri": "https://localhost:8080/"
    },
    "id": "RS--QJ2Q-5Zj",
    "outputId": "12e6ede9-cd08-4237-9010-1501c944974c",
    "tags": []
   },
   "outputs": [],
   "source": [
    "data.shape"
   ]
  },
  {
   "cell_type": "code",
   "execution_count": null,
   "metadata": {
    "id": "A4R9Dvu9-8yG",
    "tags": []
   },
   "outputs": [],
   "source": [
    "y = data['UACR']\n",
    "X = data.drop(columns=['UACR'])"
   ]
  },
  {
   "cell_type": "code",
   "execution_count": null,
   "metadata": {
    "colab": {
     "base_uri": "https://localhost:8080/"
    },
    "id": "BvQ6CfVy_ABu",
    "outputId": "8fa6072b-8a12-4a80-acd2-05dea5d2e23b",
    "tags": []
   },
   "outputs": [],
   "source": [
    "X.shape, y.shape"
   ]
  },
  {
   "cell_type": "code",
   "execution_count": null,
   "metadata": {
    "colab": {
     "base_uri": "https://localhost:8080/"
    },
    "id": "udj6UGWu_Co8",
    "outputId": "2ccf3aa9-cbc5-44a7-bb3e-500f890d29cc",
    "tags": []
   },
   "outputs": [],
   "source": [
    "# Lets impute missing values using knn Imputer\n",
    "imputer = KNNImputer(n_neighbors=3, weights='uniform', metric='nan_euclidean')\n",
    "imputer.fit(X)\n",
    "X = imputer.transform(X)\n",
    "X.shape"
   ]
  },
  {
   "cell_type": "code",
   "execution_count": null,
   "metadata": {
    "id": "bZLve1gs_F8n",
    "tags": []
   },
   "outputs": [],
   "source": [
    "X_columns = data.iloc[:, :-1]  # Select all columns except the last one\n",
    "X = pd.DataFrame(X, columns=X_columns.columns)"
   ]
  },
  {
   "cell_type": "code",
   "execution_count": null,
   "metadata": {
    "colab": {
     "base_uri": "https://localhost:8080/"
    },
    "id": "OFeYnarn_JuO",
    "outputId": "04e6fa6e-4e63-4cc2-91c8-590fead7ac06",
    "tags": []
   },
   "outputs": [],
   "source": [
    "X.shape"
   ]
  },
  {
   "cell_type": "code",
   "execution_count": null,
   "metadata": {
    "id": "EFyegqEI_Ohm",
    "tags": []
   },
   "outputs": [],
   "source": [
    "def process_columns(df, column_names):\n",
    "    for column_name in column_names:\n",
    "        for i in range(df.shape[0]):\n",
    "            if df.loc[i, column_name] < 0.5:\n",
    "                df.loc[i, column_name] = 0\n",
    "            else:\n",
    "                df.loc[i, column_name] = 1"
   ]
  },
  {
   "cell_type": "code",
   "execution_count": null,
   "metadata": {
    "id": "tpCNza6V_Pyc",
    "tags": []
   },
   "outputs": [],
   "source": [
    "process_columns(X, missing_column_names)"
   ]
  },
  {
   "cell_type": "code",
   "execution_count": null,
   "metadata": {
    "colab": {
     "base_uri": "https://localhost:8080/"
    },
    "id": "PGN-ZQDU_Ux8",
    "outputId": "fc26b981-12e3-43e3-be4a-95ede9c5e77e",
    "tags": []
   },
   "outputs": [],
   "source": [
    "X.isna().sum().sum()# no missing values"
   ]
  },
  {
   "cell_type": "code",
   "execution_count": null,
   "metadata": {
    "colab": {
     "base_uri": "https://localhost:8080/"
    },
    "id": "Pp6XXiFF1Bu8",
    "outputId": "c264a5dd-e789-4dad-85be-99f8f3468a59",
    "tags": []
   },
   "outputs": [],
   "source": [
    "X.shape, y.shape"
   ]
  },
  {
   "cell_type": "code",
   "execution_count": null,
   "metadata": {
    "id": "LbCip06602lp",
    "tags": []
   },
   "outputs": [],
   "source": [
    "X_os,y_os = osm.oversample_data(X, y, method='adasyn', sampling_strategy=0.75)"
   ]
  },
  {
   "cell_type": "code",
   "execution_count": null,
   "metadata": {
    "colab": {
     "base_uri": "https://localhost:8080/"
    },
    "id": "6tw_KcyG2F2J",
    "outputId": "9b75acd2-ca97-4bd2-c9ee-1128a47c4f44",
    "tags": []
   },
   "outputs": [],
   "source": [
    "X_os.shape, y_os.shape"
   ]
  },
  {
   "cell_type": "code",
   "execution_count": null,
   "metadata": {
    "colab": {
     "base_uri": "https://localhost:8080/"
    },
    "id": "KbrK97IgjM1w",
    "outputId": "9eb87541-e4a9-4450-c032-b36cab685aa9",
    "tags": []
   },
   "outputs": [],
   "source": [
    "X_significant = dr.get_p_values_significant_features(X_os,y_os)"
   ]
  },
  {
   "cell_type": "code",
   "execution_count": null,
   "metadata": {
    "id": "NjuP_Yc1jDrw",
    "tags": []
   },
   "outputs": [],
   "source": [
    "X_rfe = dr.dim_red_using_rfe(X_significant, y_os, 30)"
   ]
  },
  {
   "cell_type": "code",
   "execution_count": null,
   "metadata": {
    "id": "40DK0AK-_YB8",
    "tags": []
   },
   "outputs": [],
   "source": [
    "X_train_full, X_test, y_train_full, y_test = train_test_split(X_rfe, y_os, test_size=0.2, random_state=2)"
   ]
  },
  {
   "cell_type": "code",
   "execution_count": null,
   "metadata": {
    "id": "tQpKOS3B_bru",
    "tags": []
   },
   "outputs": [],
   "source": [
    "X_train, X_valid, y_train, y_valid = train_test_split(X_train_full, y_train_full, test_size=0.2, random_state=2)"
   ]
  },
  {
   "cell_type": "code",
   "execution_count": null,
   "metadata": {
    "colab": {
     "base_uri": "https://localhost:8080/"
    },
    "id": "FfbsxQZd_f_O",
    "outputId": "612e078c-3665-4504-954d-0b290558b173",
    "tags": []
   },
   "outputs": [],
   "source": [
    "print('train data(X_train,y_train) shape: ',X_train.shape, y_train.shape)\n",
    "print('validation data(X_valid,y_valid) shape: ',X_valid.shape, y_valid.shape)\n",
    "print('test data(X_test,y_test) shape: ',X_test.shape, y_test.shape)"
   ]
  },
  {
   "cell_type": "markdown",
   "metadata": {
    "id": "xYS-DNMR_jNX",
    "tags": []
   },
   "source": [
    "## SVM Baseline"
   ]
  },
  {
   "cell_type": "code",
   "execution_count": null,
   "metadata": {
    "id": "_OoUhFm1_qy2",
    "tags": []
   },
   "outputs": [],
   "source": [
    "from sklearn.svm import SVC"
   ]
  },
  {
   "cell_type": "code",
   "execution_count": null,
   "metadata": {
    "colab": {
     "base_uri": "https://localhost:8080/"
    },
    "id": "IJt8Om3vDAak",
    "outputId": "c76dc5fe-81cb-4de0-8fec-85bc1748c221",
    "tags": []
   },
   "outputs": [],
   "source": [
    "# Train classifier\n",
    "\n",
    "svc_model = SVC()\n",
    "svc_model.fit(X_train, y_train)"
   ]
  },
  {
   "cell_type": "code",
   "execution_count": null,
   "metadata": {
    "colab": {
     "base_uri": "https://localhost:8080/",
     "height": 1000
    },
    "id": "G0wjv4SH_zzz",
    "outputId": "a3d6b03f-549d-4141-eee9-dee57a62d79a",
    "tags": []
   },
   "outputs": [],
   "source": [
    "# Predict the model\n",
    "\n",
    "y_pred_baseline_svm = svc_model.predict(X_valid)"
   ]
  },
  {
   "cell_type": "code",
   "execution_count": null,
   "metadata": {
    "colab": {
     "base_uri": "https://localhost:8080/",
     "height": 1000
    },
    "id": "QPrUFh_cAFhi",
    "outputId": "e99a1632-ca58-4f1b-9565-c1ebd5c27407",
    "tags": []
   },
   "outputs": [],
   "source": [
    "em.metrics_calculation(y_valid, y_pred_baseline_svm, True)"
   ]
  },
  {
   "cell_type": "code",
   "execution_count": null,
   "metadata": {
    "tags": []
   },
   "outputs": [],
   "source": [
    "svc_model.get_params()"
   ]
  },
  {
   "cell_type": "markdown",
   "metadata": {},
   "source": [
    "### After Feature transformation - Standardization"
   ]
  },
  {
   "cell_type": "code",
   "execution_count": null,
   "metadata": {},
   "outputs": [],
   "source": [
    "scaler = StandardScaler()\n",
    "X_std = scaler.fit_transform(X_rfe)"
   ]
  },
  {
   "cell_type": "code",
   "execution_count": null,
   "metadata": {
    "id": "40DK0AK-_YB8"
   },
   "outputs": [],
   "source": [
    "X_train_full, X_test, y_train_full, y_test = train_test_split(X_std, y_os, test_size=0.2, random_state=2)"
   ]
  },
  {
   "cell_type": "code",
   "execution_count": null,
   "metadata": {
    "id": "tQpKOS3B_bru"
   },
   "outputs": [],
   "source": [
    "X_train, X_valid, y_train, y_valid = train_test_split(X_train_full, y_train_full, test_size=0.2, random_state=2)"
   ]
  },
  {
   "cell_type": "code",
   "execution_count": null,
   "metadata": {
    "colab": {
     "base_uri": "https://localhost:8080/"
    },
    "id": "FfbsxQZd_f_O",
    "outputId": "5df56a1e-769f-43b5-d386-7d7681952588"
   },
   "outputs": [],
   "source": [
    "print('train data(X_train,y_train) shape: ',X_train.shape, y_train.shape)\n",
    "print('validation data(X_valid,y_valid) shape: ',X_valid.shape, y_valid.shape)\n",
    "print('test data(X_test,y_test) shape: ',X_test.shape, y_test.shape)"
   ]
  },
  {
   "cell_type": "code",
   "execution_count": null,
   "metadata": {},
   "outputs": [],
   "source": [
    "from sklearn.svm import SVC"
   ]
  },
  {
   "cell_type": "code",
   "execution_count": null,
   "metadata": {},
   "outputs": [],
   "source": [
    "svc_model = SVC()"
   ]
  },
  {
   "cell_type": "code",
   "execution_count": null,
   "metadata": {},
   "outputs": [],
   "source": [
    "# Train classifier\n",
    "\n",
    "svc_model.fit(X_train, y_train)"
   ]
  },
  {
   "cell_type": "code",
   "execution_count": null,
   "metadata": {},
   "outputs": [],
   "source": [
    "# Predict the model\n",
    "\n",
    "y_pred_baseline_svm = svc_model.predict(X_valid)"
   ]
  },
  {
   "cell_type": "code",
   "execution_count": null,
   "metadata": {
    "tags": []
   },
   "outputs": [],
   "source": [
    "em.metrics_calculation(y_valid, y_pred_baseline_svm, True)"
   ]
  },
  {
   "cell_type": "code",
   "execution_count": null,
   "metadata": {
    "tags": []
   },
   "outputs": [],
   "source": [
    "svc_model.get_params()"
   ]
  },
  {
   "cell_type": "markdown",
   "metadata": {
    "id": "9C5eupNJEGQC",
    "tags": []
   },
   "source": [
    "### Hyperparameter tuning"
   ]
  },
  {
   "cell_type": "code",
   "execution_count": null,
   "metadata": {
    "tags": []
   },
   "outputs": [],
   "source": [
    "# defining a grid search like function for decision tree to get hyper parameters\n",
    "\n",
    "def svm_grid_search(C, kernel, params, X_train, X_test, y_train, y_test):\n",
    "    for k in range(0,len(C)):\n",
    "        for i in range(0, len(kernel)):\n",
    "            C_val = C[k]\n",
    "            kernel_val = kernel[i]\n",
    "        \n",
    "        svc_model = SVC(C = C_val, kernel = kernel_val, random_state=2023)\n",
    "        svc_model = svc_model.fit(X_train,y_train)\n",
    "        y_pred = svc_model.predict(X_test)\n",
    "        \n",
    "        accuracy = metrics.accuracy_score(y_test, y_pred)\n",
    "        F1_score = metrics.f1_score(y_test, y_pred, average='macro')\n",
    "        precision = metrics.precision_score(y_test, y_pred, average='macro')\n",
    "        recall = metrics.recall_score(y_test, y_pred, average='macro')\n",
    "        \n",
    "        parameters_dict = {'Regularization_parameter':C_val, 'Kernel':kernel_val, 'accuracy': accuracy, 'F1_score':F1_score, 'precision':precision, 'recall':recall}\n",
    "        params.append(parameters_dict)\n",
    "        \n",
    "        print(f'Regularization_parameter:{C_val}, Kernel:{kernel_val}, accuracy:{accuracy}, F1_score:{F1_score}')"
   ]
  },
  {
   "cell_type": "code",
   "execution_count": null,
   "metadata": {
    "tags": []
   },
   "outputs": [],
   "source": [
    "C = [1, 10, 100]\n",
    "kernel = ['linear','rbf']\n",
    "params = list()"
   ]
  },
  {
   "cell_type": "code",
   "execution_count": null,
   "metadata": {
    "tags": []
   },
   "outputs": [],
   "source": [
    "svm_grid_search(C, kernel, params, X_train, X_valid, y_train, y_valid)"
   ]
  },
  {
   "cell_type": "code",
   "execution_count": null,
   "metadata": {
    "tags": []
   },
   "outputs": [],
   "source": [
    "# lets sort the metrics in descending order\n",
    "\n",
    "param_sorted = sorted(params, key=itemgetter('F1_score'), reverse=True)\n",
    "df = pd.DataFrame.from_dict(param_sorted)\n",
    "print(tabulate(df, headers = 'keys', tablefmt = 'psql'))\n",
    "\n",
    "# optimal set of hyperparameters will be the top value in the sorted parameter list\n",
    "\n",
    "opt_hparams = param_sorted[0]\n",
    "print('**'*60)\n",
    "print(f'\\noptimal hyper-parameters: {opt_hparams}\\n')\n",
    "print('**'*60)"
   ]
  },
  {
   "cell_type": "markdown",
   "metadata": {},
   "source": [
    "### Cross validation"
   ]
  },
  {
   "cell_type": "code",
   "execution_count": null,
   "metadata": {
    "tags": []
   },
   "outputs": [],
   "source": [
    "# using the optimal hyperparameters test the model robustness using k-fold cross validation\n",
    "\n",
    "svm_model_tuned = SVC(C = 10, kernel = 'rbf', random_state=2023)\n",
    "svm_model_tuned.fit(X_train_full, y_train_full)\n",
    "cv.cross_validation_func(svm_model_tuned, X_train_full, y_train_full, 5)"
   ]
  },
  {
   "cell_type": "markdown",
   "metadata": {},
   "source": [
    "### Testing SVM with optimal hyperparameters on unseen data"
   ]
  },
  {
   "cell_type": "code",
   "execution_count": null,
   "metadata": {
    "tags": []
   },
   "outputs": [],
   "source": [
    "svc_model_opt_p_rfe_adasyn = SVC(C = 10, kernel = 'rbf', random_state=2023)\n",
    "svc_model_opt_p_rfe_adasyn.fit(X_train_full, y_train_full)\n",
    "y_pred_opt_SVC = svc_model_opt_p_rfe_adasyn.predict(X_test)\n",
    "lc.plot_learning_curve(svc_model_opt_p_rfe_adasyn, X_train_full, y_train_full, cv=5)"
   ]
  },
  {
   "cell_type": "code",
   "execution_count": null,
   "metadata": {
    "tags": []
   },
   "outputs": [],
   "source": [
    "em.metrics_calculation(y_test, y_pred_opt_SVC, True)"
   ]
  },
  {
   "cell_type": "code",
   "execution_count": null,
   "metadata": {},
   "outputs": [],
   "source": [
    "filename = 'svc_model_opt_p_rfe_adasyn.sav'\n",
    "pickle.dump(svc_model_opt_p_rfe_adasyn, open(filename, 'wb'))"
   ]
  },
  {
   "cell_type": "code",
   "execution_count": null,
   "metadata": {
    "tags": []
   },
   "outputs": [],
   "source": [
    "loaded_model = pickle.load(open(filename, 'rb'))\n",
    "y_pred = loaded_model.predict(X_test)\n",
    "em.metrics_calculation(y_test, y_pred, True)"
   ]
  }
 ],
 "metadata": {
  "colab": {
   "authorship_tag": "ABX9TyNZDrHF5AMGqZnrHUR3zdw2",
   "include_colab_link": true,
   "provenance": []
  },
  "kernelspec": {
   "display_name": "Python 3 (ipykernel)",
   "language": "python",
   "name": "python3"
  },
  "language_info": {
   "codemirror_mode": {
    "name": "ipython",
    "version": 3
   },
   "file_extension": ".py",
   "mimetype": "text/x-python",
   "name": "python",
   "nbconvert_exporter": "python",
   "pygments_lexer": "ipython3",
   "version": "3.11.5"
  }
 },
 "nbformat": 4,
 "nbformat_minor": 4
}
